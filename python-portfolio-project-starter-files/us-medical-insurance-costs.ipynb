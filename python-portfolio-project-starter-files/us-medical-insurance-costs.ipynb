{
 "cells": [
  {
   "cell_type": "markdown",
   "metadata": {},
   "source": [
    "# U.S. Medical Insurance Costs"
   ]
  },
  {
   "cell_type": "markdown",
   "metadata": {},
   "source": [
    "This is a breakdown of the best ideas for a project involving dataset insurance.csv:\n",
    "\n",
    "**By Zone**: Check and form a zone filtered Medical Insurance cost analyzis to discover the most and least expensive, with this we can then draw conclusions by factors like bmi, number of children and smoker status.\n",
    "\n",
    "**By Age**: Determine the probability based on the mode of the cost of insurance and the ages to conclude which age is the most expensive or prone to utilize insurance based on these data.\n",
    "\n",
    "**By Number of Children**\n",
    "\n"
   ]
  },
  {
   "cell_type": "code",
   "execution_count": null,
   "metadata": {},
   "outputs": [
    {
     "name": "stdout",
     "output_type": "stream",
     "text": [
      "5363689.763290002\n",
      "4343668.583308999\n",
      "4012754.647620001\n",
      "5363689.763290002\n"
     ]
    }
   ],
   "source": [
    "import csv\n",
    "\n",
    "with open('insurance.csv', newline = '') as dataset:\n",
    "  dataset = csv.DictReader(dataset)\n",
    "  region_southwest = 0.0\n",
    "  region_southeast = 0.0\n",
    "  region_northwest = 0.0\n",
    "  region_northeast = 0.0\n",
    "  #list = list(dataset)\n",
    "  for row in dataset:\n",
    "    #print(row)\n",
    "    if row['region'] == 'southeast':\n",
    "      region_southeast = region_southeast + float(row['charges'])\n",
    "    elif row['region'] == 'southwest':\n",
    "      region_southwest = region_southwest + float(row['charges'])\n",
    "    elif row['region'] == 'northeast':\n",
    "      region_northeast = region_northeast + float(row['charges'])\n",
    "    elif row['region'] == 'northwest':\n",
    "      region_northwest = region_northwest + float(row['charges'])\n",
    "  print(region_southeast)\n",
    "  print(region_northeast)\n",
    "  print(region_southwest)\n",
    "  print(region_southeast)\n",
    "\n",
    "  \n",
    "\n",
    "\n",
    "\n",
    "\n",
    "\n",
    "\n"
   ]
  },
  {
   "cell_type": "code",
   "execution_count": null,
   "metadata": {},
   "outputs": [],
   "source": []
  }
 ],
 "metadata": {
  "kernelspec": {
   "display_name": "medical-project",
   "language": "python",
   "name": "python3"
  },
  "language_info": {
   "codemirror_mode": {
    "name": "ipython",
    "version": 3
   },
   "file_extension": ".py",
   "mimetype": "text/x-python",
   "name": "python",
   "nbconvert_exporter": "python",
   "pygments_lexer": "ipython3",
   "version": "3.12.11"
  }
 },
 "nbformat": 4,
 "nbformat_minor": 4
}
